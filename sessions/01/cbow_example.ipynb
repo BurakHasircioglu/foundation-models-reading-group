{
 "cells": [
  {
   "cell_type": "code",
   "execution_count": null,
   "metadata": {},
   "outputs": [],
   "source": [
    "import numpy as np\n",
    "from collections import defaultdict\n",
    "\n",
    "\n",
    "def cbow(corpus, window_size, embedding_size, learning_rate, epochs):\n",
    "    # Create a vocabulary of unique words in the corpus\n",
    "    vocab = list(set(corpus.split()))\n",
    "\n",
    "    # Initialize word embeddings randomly\n",
    "    embeddings = defaultdict(lambda: np.random.randn(embedding_size))\n",
    "\n",
    "    # Train the embeddings using the CBOW algorithm\n",
    "    for epoch in range(epochs):\n",
    "        loss = 0\n",
    "        for i in range(window_size, len(corpus) - window_size):\n",
    "            # Extract the context words and the target word\n",
    "            context_words = [\n",
    "                corpus[j] for j in range(i - window_size, i + window_size + 1) if j != i\n",
    "            ]\n",
    "            target_word = corpus[i]\n",
    "\n",
    "            # Compute the context embedding by averaging the embeddings of the context words\n",
    "            context_embedding = np.mean([embeddings[w] for w in context_words], axis=0)\n",
    "\n",
    "            # Compute the error between the predicted embedding and the actual embedding for the target word\n",
    "            error = context_embedding - embeddings[target_word]\n",
    "\n",
    "            # Update the embedding for the target word and the context words using the error and the learning rate\n",
    "            embeddings[target_word] += learning_rate * error\n",
    "            for w in context_words:\n",
    "                embeddings[w] += learning_rate * error / (2 * window_size)\n",
    "\n",
    "            # Accumulate the loss for this iteration\n",
    "            loss += np.sum(error**2)\n",
    "\n",
    "        # Print the loss for this epoch\n",
    "        print(\"Epoch {}, loss: {:.2f}\".format(epoch + 1, loss))\n",
    "\n",
    "    # Return the trained embeddings\n",
    "    return embeddings\n",
    "\n",
    "\n",
    "corpus = \"the quick brown fox jumped over the lazy dog\"\n",
    "embeddings = cbow(corpus, window_size=2, embedding_size=10, learning_rate=0.1, epochs=50)\n",
    "print(embeddings[\"quick\"])\n"
   ]
  }
 ],
 "metadata": {
  "kernelspec": {
   "display_name": ".venv",
   "language": "python",
   "name": "python3"
  },
  "language_info": {
   "codemirror_mode": {
    "name": "ipython",
    "version": 3
   },
   "file_extension": ".py",
   "mimetype": "text/x-python",
   "name": "python",
   "nbconvert_exporter": "python",
   "pygments_lexer": "ipython3",
   "version": "3.9.7"
  },
  "orig_nbformat": 4
 },
 "nbformat": 4,
 "nbformat_minor": 2
}
